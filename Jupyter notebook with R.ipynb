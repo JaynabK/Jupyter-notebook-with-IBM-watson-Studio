{
    "nbformat_minor": 1, 
    "cells": [
        {
            "source": "# My Jupyter Notebook on IBM Data Science Experience\n", 
            "cell_type": "markdown", 
            "metadata": {
                "collapsed": true
            }
        }, 
        {
            "source": "**Jaynab** Student ", 
            "cell_type": "markdown", 
            "metadata": {}
        }, 
        {
            "source": "*I am interested in data science because it is forefront of the coming AI revolution.\nData scientists help improve how humans make decisions and how algorithms optimize outcomes*\n", 
            "cell_type": "markdown", 
            "metadata": {}
        }, 
        {
            "source": "### My code is doing array addition using R in this jupyter notebook", 
            "cell_type": "markdown", 
            "metadata": {}
        }, 
        {
            "execution_count": 8, 
            "cell_type": "code", 
            "metadata": {}, 
            "outputs": [
                {
                    "output_type": "display_data", 
                    "data": {
                        "text/html": "<table>\n<thead><tr><th scope=col>a</th><th scope=col>b</th></tr></thead>\n<tbody>\n\t<tr><td>1</td><td>2</td></tr>\n\t<tr><td>2</td><td>4</td></tr>\n\t<tr><td>3</td><td>6</td></tr>\n</tbody>\n</table>\n", 
                        "text/latex": "\\begin{tabular}{ll}\n a & b\\\\\n\\hline\n\t 1 & 2\\\\\n\t 2 & 4\\\\\n\t 3 & 6\\\\\n\\end{tabular}\n", 
                        "text/markdown": "\na | b | \n|---|---|---|\n| 1 | 2 | \n| 2 | 4 | \n| 3 | 6 | \n\n\n", 
                        "text/plain": "     a b\n[1,] 1 2\n[2,] 2 4\n[3,] 3 6"
                    }, 
                    "metadata": {}
                }, 
                {
                    "output_type": "display_data", 
                    "data": {
                        "text/html": "<ol class=list-inline>\n\t<li>3</li>\n\t<li>6</li>\n\t<li>9</li>\n</ol>\n", 
                        "text/latex": "\\begin{enumerate*}\n\\item 3\n\\item 6\n\\item 9\n\\end{enumerate*}\n", 
                        "text/markdown": "1. 3\n2. 6\n3. 9\n\n\n", 
                        "text/plain": "[1] 3 6 9"
                    }, 
                    "metadata": {}
                }
            ], 
            "source": "a = c(1,2,3)\nb = c(2,4,6)\nc = cbind(a,b)\nx = a+b\nc\nx"
        }, 
        {
            "source": "* unordered list\nThis is Table\n\n| Tables        | Are           | Cool  |\n| ------------- |:-------------:| -----:|\n| col 3 is      | right-aligned | $1600 |\n| col 2 is      | centered      |   $12 |\n| zebra stripes | are neat      |    $1 |\n\n> Blockquotes are very handy in email to emulate reply text.", 
            "cell_type": "markdown", 
            "metadata": {}
        }, 
        {
            "execution_count": null, 
            "cell_type": "code", 
            "metadata": {}, 
            "outputs": [], 
            "source": ""
        }
    ], 
    "metadata": {
        "kernelspec": {
            "display_name": "R", 
            "name": "r", 
            "language": "R"
        }, 
        "language_info": {
            "mimetype": "text/x-r-source", 
            "version": "3.4.2", 
            "name": "R", 
            "pygments_lexer": "r", 
            "file_extension": ".r", 
            "codemirror_mode": "r"
        }
    }, 
    "nbformat": 4
}